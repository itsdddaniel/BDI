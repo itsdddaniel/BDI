{
 "cells": [
  {
   "cell_type": "markdown",
   "id": "22923037",
   "metadata": {},
   "source": [
    "@author Daniel Arteaga\n",
    "@version 1.0\n",
    "@date 06/04/2021\n",
    "\n",
    "# Generar datos de inserción para MySQL/MariaDB\n",
    "\n",
    "## Objectivo\n",
    "\n",
    "- Generar datos de inserción para la base de datos, que permitan automatizar el completado del universo de datos de una tabla, mediante comandos parametrizados.\n",
    "- Hacer uso de **Jupyter Notebook** para documentar el desarrollo, mostrar comentarios, ejecutar el código e incluir la respuesta de la ejecución.\n",
    "- Hacer uso de Python para crear las Clases de Métodos necesarios para el cumplimiento del objetivo."
   ]
  },
  {
   "cell_type": "code",
   "execution_count": 10,
   "id": "a752d13a",
   "metadata": {},
   "outputs": [],
   "source": [
    "import random, re, os\n",
    "from datetime import datetime, timedelta"
   ]
  },
  {
   "cell_type": "markdown",
   "id": "8bf488e3",
   "metadata": {},
   "source": [
    "## Ejercicio\n",
    "\n",
    "- Usando **Jupyter Notebook**, cree un programa de Python que:\n",
    "    - Cree un archivo SQL con código DMS, para la inserción de datos sobre la tabla de base de datos **Measure**, que pertenecen a la base de datos **Example**, usada en clases de esta asignatura.\n",
    "    - Crear 10 años de registros para la base de datos.\n",
    "    - Verificar el tamaño del archivo creado.\n",
    "\n",
    "## Aclaración\n",
    "\n",
    "El estudiante debe reconocer que este ejercicio, a diferencia de ejercicios anteriores de Python, solicita la creación de archivos SQL para la ejecución de los mismos fuera de Python. En ejercicios anteriores se le solicitó al estudiante crear programas Python usando POO para ejecutar instrucciones SQL directamente desde dicho programa.\n",
    "\n",
    "**Se documenta la prueba matemática para la cantidad de registros de inserción que debe poseer el archivo final.**"
   ]
  },
  {
   "cell_type": "markdown",
   "id": "fb13708e",
   "metadata": {},
   "source": [
    "Se crea mediante POO, el componente de Python que generará el archivo"
   ]
  },
  {
   "cell_type": "code",
   "execution_count": 11,
   "id": "b65ede9b",
   "metadata": {},
   "outputs": [],
   "source": [
    "class DataGenerator:\n",
    "    def __init__(self, fileName=\"DMS.sql\"):\n",
    "        self.fileName = fileName\n",
    "        print(\"Se ha creado una instancia de la clase DataGenerator.\")\n",
    "\n",
    "    def generate(self,count):\n",
    "        fileName = self.fileName\n",
    "        f = open(fileName,\"w\")\n",
    "        f.write(\"--CREATE ... USE ... CREATE ... DROP....\")\n",
    "        f.close()\n",
    "\n",
    "        f = open(fileName,\"a\")\n",
    "        for i in range(count):\n",
    "            f.write\n",
    "            (\n",
    "                \"\"\"\n",
    "                INSERT INTO Measure(deviceId, temperature, date) VALUES\n",
    "                ({},{},{})\n",
    "                ;\n",
    "                \"\"\".format\n",
    "                (\n",
    "                    int(random.random()*(4-1)+1),\n",
    "                    round(random.random()*(39-36)+36,2),\n",
    "                    datetime.now() + timedelta(seconds=60*i)\n",
    "\n",
    "                )\n",
    "            )\n",
    "        f.close()\n",
    "        print(\"Se ha finalizado correctamente la creación del archivo {}.\".format(fileName))\n",
    "\n",
    "    def check(self):\n",
    "        fileName = self.fileName\n",
    "        fileSize = os.path.getsize(fileName)\n",
    "        print(\"El archivo {} tiene un tamaño físico {} MB.\".format(fileName,round(fileSize/1024/1024,2)))"
   ]
  },
  {
   "cell_type": "markdown",
   "id": "67d9cf63",
   "metadata": {},
   "source": [
    "**Se genera una instancia del programa para ejecutar el método *generate*, para la creación del archivos SQL**"
   ]
  },
  {
   "cell_type": "code",
   "execution_count": 12,
   "id": "9b927d1b",
   "metadata": {},
   "outputs": [
    {
     "name": "stdout",
     "output_type": "stream",
     "text": [
      "Se ha creado una instancia de la clase DataGenerator.\n"
     ]
    }
   ],
   "source": [
    "dg = DataGenerator()"
   ]
  },
  {
   "cell_type": "code",
   "execution_count": 13,
   "id": "efd91d90",
   "metadata": {},
   "outputs": [
    {
     "name": "stdout",
     "output_type": "stream",
     "text": [
      "Se ha finalizado correctamente la creación del archivo DMS.sql.\n"
     ]
    }
   ],
   "source": [
    "dg.generate(10*365*24*60)"
   ]
  },
  {
   "cell_type": "markdown",
   "id": "bf907fe8",
   "metadata": {},
   "source": [
    "**Se genera una instancia del programa para ejecutar el método de verificación del tamaño del archivo creado.**"
   ]
  },
  {
   "cell_type": "code",
   "execution_count": 14,
   "id": "d506174a",
   "metadata": {},
   "outputs": [
    {
     "name": "stdout",
     "output_type": "stream",
     "text": [
      "El archivo DMS.sql tiene un tamaño físico 0.0 MB.\n"
     ]
    }
   ],
   "source": [
    "dg.check()"
   ]
  }
 ],
 "metadata": {
  "kernelspec": {
   "display_name": "Python 3",
   "language": "python",
   "name": "python3"
  },
  "language_info": {
   "codemirror_mode": {
    "name": "ipython",
    "version": 3
   },
   "file_extension": ".py",
   "mimetype": "text/x-python",
   "name": "python",
   "nbconvert_exporter": "python",
   "pygments_lexer": "ipython3",
   "version": "3.9.4"
  }
 },
 "nbformat": 4,
 "nbformat_minor": 5
}
