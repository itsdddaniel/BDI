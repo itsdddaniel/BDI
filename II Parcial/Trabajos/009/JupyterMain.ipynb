{
 "cells": [
  {
   "cell_type": "markdown",
   "metadata": {},
   "source": [
    "@author Daniel Arteaga\n",
    "@version 1.0\n",
    "@date 12/04/21\n",
    "\n",
    "# Ejercicio \n",
    "\n",
    "Usando Jupyter Notebook, construya un programa de Python que:\n",
    "\n",
    "- Demuestre el funcionamiento de transacciones mediante los conceptos de Commit y Rollback.\n",
    "- Demuestre el funcionamiento de cursores en SQL, en Python."
   ]
  },
  {
   "cell_type": "code",
   "execution_count": 1,
   "metadata": {},
   "outputs": [
    {
     "name": "stdout",
     "output_type": "stream",
     "text": [
      "Se ha creado una conexión a la base de datos.\n"
     ]
    }
   ],
   "source": [
    "from ConfigConnection import ConfigConnection\n",
    "from MySQLEngine import MySQLEngine\n",
    "\n",
    "config = ConfigConnection(\"localhost\",\"3306\",\"admin\",\"admin\",\"Example\")\n",
    "engine = MySQLEngine(config)\n",
    "\n",
    "print(\"Se ha creado una conexión a la base de datos.\")"
   ]
  },
  {
   "cell_type": "code",
   "execution_count": 2,
   "metadata": {},
   "outputs": [
    {
     "name": "stdout",
     "output_type": "stream",
     "text": [
      "Se ha ejecutado la transacción 'DROP TABLE IF EXISTS customer;', con resultado None.\n",
      "Se ha ejecutado la transacción 'CREATE TABLE customer (a SERIAL PRIMARY KEY, b CHAR(20), INDEX(a));', con resultado None.\n"
     ]
    }
   ],
   "source": [
    "engine.ddsDms(\"DROP TABLE IF EXISTS customer;\")\n",
    "engine.ddsDms(\"CREATE TABLE customer (a SERIAL PRIMARY KEY, b CHAR(20), INDEX(a));\")"
   ]
  },
  {
   "cell_type": "code",
   "execution_count": 3,
   "metadata": {},
   "outputs": [
    {
     "name": "stdout",
     "output_type": "stream",
     "text": [
      "Campo    Tipo de Dato         Nulo    Es llave    Valor por defecto    Extra\n",
      "-------  -------------------  ------  ----------  -------------------  --------------\n",
      "a        bigint(20) unsigned  NO      PRI                              auto_increment\n",
      "b        char(20)             YES\n"
     ]
    }
   ],
   "source": [
    "result = engine.select(\"DESC customer;\")\n",
    "engine.printAsTable(result,[\"Campo\",\"Tipo de Dato\",\"Nulo\",\"Es llave\",\"Valor por defecto\",\"Extra\"])"
   ]
  },
  {
   "cell_type": "code",
   "execution_count": 4,
   "metadata": {},
   "outputs": [
    {
     "name": "stdout",
     "output_type": "stream",
     "text": [
      "Se ha ejecutado la transacción 'START TRANSACTION;', con resultado None.\n"
     ]
    }
   ],
   "source": [
    "engine.ddsDms(\"START TRANSACTION;\")"
   ]
  },
  {
   "cell_type": "code",
   "execution_count": 5,
   "metadata": {},
   "outputs": [
    {
     "name": "stdout",
     "output_type": "stream",
     "text": [
      "Se ha ejecutado la transacción 'INSERT INTO customer VALUES (10, 'Heikki');', con resultado None.\n"
     ]
    }
   ],
   "source": [
    "engine.ddsDms(\"INSERT INTO customer VALUES (10, 'Heikki');\")"
   ]
  },
  {
   "cell_type": "code",
   "execution_count": 6,
   "metadata": {},
   "outputs": [
    {
     "name": "stdout",
     "output_type": "stream",
     "text": [
      "  a  b\n",
      "---  ------\n",
      " 10  Heikki\n"
     ]
    }
   ],
   "source": [
    "result = engine.select(\"SELECT a,b FROM customer;\")\n",
    "engine.printAsTable(result,[\"a\",\"b\"])"
   ]
  },
  {
   "cell_type": "code",
   "execution_count": 8,
   "metadata": {},
   "outputs": [
    {
     "name": "stdout",
     "output_type": "stream",
     "text": [
      "Se ha ejecutado la transacción 'COMMIT;', con resultado None.\n",
      "Se ha ejecutado la transacción 'SET autocommit=0;', con resultado None.\n"
     ]
    }
   ],
   "source": [
    "engine.ddsDms(\"COMMIT;\")\n",
    "engine.ddsDms(\"SET autocommit=0;\")"
   ]
  },
  {
   "cell_type": "code",
   "execution_count": 9,
   "metadata": {},
   "outputs": [
    {
     "name": "stdout",
     "output_type": "stream",
     "text": [
      "Se ha ejecutado la transacción 'INSERT INTO customer VALUES (15, 'John');', con resultado None.\n",
      "Se ha ejecutado la transacción 'INSERT INTO customer VALUES (20, 'Paul');', con resultado None.\n",
      "Se ha ejecutado la transacción 'DELETE FROM customer WHERE b = 'Heikki';', con resultado None.\n"
     ]
    }
   ],
   "source": [
    "engine.ddsDms(\"INSERT INTO customer VALUES (15, 'John');\")\n",
    "engine.ddsDms(\"INSERT INTO customer VALUES (20, 'Paul');\")\n",
    "engine.ddsDms(\"DELETE FROM customer WHERE b = 'Heikki';\")"
   ]
  },
  {
   "cell_type": "code",
   "execution_count": 10,
   "metadata": {},
   "outputs": [
    {
     "name": "stdout",
     "output_type": "stream",
     "text": [
      "  a  b\n",
      "---  ----\n",
      " 15  John\n",
      " 20  Paul\n"
     ]
    }
   ],
   "source": [
    "result = engine.select(\"SELECT a,b FROM customer;\")\n",
    "engine.printAsTable(result,[\"a\",\"b\"])"
   ]
  },
  {
   "cell_type": "code",
   "execution_count": 11,
   "metadata": {},
   "outputs": [
    {
     "name": "stdout",
     "output_type": "stream",
     "text": [
      "Se ha ejecutado la transacción 'ROLLBACK;', con resultado None.\n"
     ]
    }
   ],
   "source": [
    "engine.ddsDms(\"ROLLBACK;\")"
   ]
  },
  {
   "cell_type": "code",
   "execution_count": 12,
   "metadata": {},
   "outputs": [
    {
     "name": "stdout",
     "output_type": "stream",
     "text": [
      "  a  b\n",
      "---  ------\n",
      " 10  Heikki\n"
     ]
    }
   ],
   "source": [
    "result = engine.select(\"SELECT a,b FROM customer;\")\n",
    "engine.printAsTable(result,[\"a\",\"b\"])"
   ]
  },
  {
   "cell_type": "code",
   "execution_count": null,
   "metadata": {},
   "outputs": [],
   "source": []
  }
 ],
 "metadata": {
  "kernelspec": {
   "display_name": "Python 3",
   "language": "python",
   "name": "python3"
  },
  "language_info": {
   "codemirror_mode": {
    "name": "ipython",
    "version": 3
   },
   "file_extension": ".py",
   "mimetype": "text/x-python",
   "name": "python",
   "nbconvert_exporter": "python",
   "pygments_lexer": "ipython3",
   "version": "3.8.5"
  }
 },
 "nbformat": 4,
 "nbformat_minor": 5
}
